{
 "cells": [
  {
   "cell_type": "code",
   "execution_count": 6,
   "id": "aacdf3ae",
   "metadata": {},
   "outputs": [
    {
     "name": "stdout",
     "output_type": "stream",
     "text": [
      "TensorFlow has access to the following devices:\n",
      "[PhysicalDevice(name='/physical_device:CPU:0', device_type='CPU')]\n",
      "TensorFlow version: 2.9.1\n"
     ]
    }
   ],
   "source": [
    "import numpy as np\n",
    "import pandas as pd\n",
    "import sklearn\n",
    "import tensorflow as tf\n",
    "import matplotlib.pyplot as plt\n",
    "\n",
    "# Check for TensorFlow GPU access\n",
    "print(f\"TensorFlow has access to the following devices:\\n{tf.config.list_physical_devices()}\")\n",
    "\n",
    "# See TensorFlow version\n",
    "print(f\"TensorFlow version: {tf.__version__}\")"
   ]
  },
  {
   "cell_type": "code",
   "execution_count": 3,
   "id": "599f0a9e",
   "metadata": {},
   "outputs": [],
   "source": [
    "# !pip install autokeras"
   ]
  },
  {
   "cell_type": "code",
   "execution_count": 5,
   "id": "b9484520",
   "metadata": {},
   "outputs": [],
   "source": [
    "# !pip install keras-tuner"
   ]
  },
  {
   "cell_type": "code",
   "execution_count": 7,
   "id": "ecc51a99",
   "metadata": {},
   "outputs": [],
   "source": [
    "import autokeras as ak\n",
    "import matplotlib.pyplot as plt\n",
    "import numpy as np\n",
    "import pandas as pd\n",
    "import os\n",
    "from glob import glob #to walk through folder structure\n",
    "from PIL import Image #image loading,resize\n",
    "from keras.preprocessing.image import ImageDataGenerator\n",
    "from keras.utils.np_utils import to_categorical # used for converting labels to one-hot-encoding\n",
    "from sklearn.model_selection import train_test_split\n",
    "from scipy import stats\n",
    "from sklearn.preprocessing import LabelEncoder\n",
    "np.random.seed(42)\n",
    "from keras.models import Sequential\n",
    "from keras.layers import Dense, Dropout, Flatten, Conv2D, MaxPool2D, BatchNormalization\n",
    "import warnings\n",
    "warnings.filterwarnings(\"ignore\")"
   ]
  },
  {
   "cell_type": "code",
   "execution_count": 3,
   "id": "260325dc",
   "metadata": {},
   "outputs": [],
   "source": [
    "skin_df = pd.read_csv('data/HAM10000_metadata.csv')"
   ]
  },
  {
   "cell_type": "code",
   "execution_count": 4,
   "id": "37dcb1c5",
   "metadata": {},
   "outputs": [
    {
     "name": "stdout",
     "output_type": "stream",
     "text": [
      "['akiec', 'bcc', 'bkl', 'df', 'mel', 'nv', 'vasc']\n"
     ]
    }
   ],
   "source": [
    "# label encoding to numeric values from text\n",
    "le = LabelEncoder()\n",
    "le.fit(skin_df['dx'])\n",
    "LabelEncoder()\n",
    "print(list(le.classes_))"
   ]
  },
  {
   "cell_type": "code",
   "execution_count": 5,
   "id": "da95e402",
   "metadata": {},
   "outputs": [
    {
     "name": "stdout",
     "output_type": "stream",
     "text": [
      "        lesion_id      image_id   dx    dx_type   age     sex  \\\n",
      "1617  HAM_0007180  ISIC_0033272  mel      histo  65.0    male   \n",
      "8128  HAM_0007195  ISIC_0031923   nv      histo  40.0  female   \n",
      "2168  HAM_0001835  ISIC_0026652  mel      histo  65.0    male   \n",
      "1090  HAM_0000465  ISIC_0030583  bkl  consensus  35.0  female   \n",
      "7754  HAM_0001720  ISIC_0034010   nv      histo  45.0    male   \n",
      "8071  HAM_0006333  ISIC_0024424   nv      histo  35.0    male   \n",
      "7423  HAM_0004548  ISIC_0032832   nv      histo  45.0  female   \n",
      "8984  HAM_0006526  ISIC_0026671   nv      histo  55.0    male   \n",
      "2310  HAM_0003102  ISIC_0032389  mel      histo  65.0    male   \n",
      "7256  HAM_0004260  ISIC_0025525   nv      histo  65.0    male   \n",
      "\n",
      "         localization  label  \n",
      "1617             face      4  \n",
      "8128  lower extremity      5  \n",
      "2168             back      4  \n",
      "1090            trunk      2  \n",
      "7754          abdomen      5  \n",
      "8071            trunk      5  \n",
      "7423  upper extremity      5  \n",
      "8984  lower extremity      5  \n",
      "2310             face      4  \n",
      "7256             back      5  \n"
     ]
    }
   ],
   "source": [
    "skin_df['label'] = le.transform(skin_df[\"dx\"]) \n",
    "print(skin_df.sample(10))"
   ]
  },
  {
   "cell_type": "code",
   "execution_count": 6,
   "id": "b015bbe8",
   "metadata": {},
   "outputs": [
    {
     "name": "stdout",
     "output_type": "stream",
     "text": [
      "5    6705\n",
      "4    1113\n",
      "2    1099\n",
      "1     514\n",
      "0     327\n",
      "6     142\n",
      "3     115\n",
      "Name: label, dtype: int64\n"
     ]
    }
   ],
   "source": [
    "from sklearn.utils import resample\n",
    "print(skin_df['label'].value_counts())"
   ]
  },
  {
   "cell_type": "code",
   "execution_count": 7,
   "id": "005539fe",
   "metadata": {},
   "outputs": [],
   "source": [
    "#Balance data.\n",
    "#Separate each classes, resample, and combine back into single dataframe\n",
    "\n",
    "df_0 = skin_df[skin_df['label'] == 0]\n",
    "df_1 = skin_df[skin_df['label'] == 1]\n",
    "df_2 = skin_df[skin_df['label'] == 2]\n",
    "df_3 = skin_df[skin_df['label'] == 3]\n",
    "df_4 = skin_df[skin_df['label'] == 4]\n",
    "df_5 = skin_df[skin_df['label'] == 5]\n",
    "df_6 = skin_df[skin_df['label'] == 6]"
   ]
  },
  {
   "cell_type": "code",
   "execution_count": 8,
   "id": "238e0081",
   "metadata": {},
   "outputs": [],
   "source": [
    "n_samples=500 \n",
    "df_0_balanced = resample(df_0, replace=True, n_samples=n_samples, random_state=42) \n",
    "df_1_balanced = resample(df_1, replace=True, n_samples=n_samples, random_state=42) \n",
    "df_2_balanced = resample(df_2, replace=True, n_samples=n_samples, random_state=42)\n",
    "df_3_balanced = resample(df_3, replace=True, n_samples=n_samples, random_state=42)\n",
    "df_4_balanced = resample(df_4, replace=True, n_samples=n_samples, random_state=42)\n",
    "df_5_balanced = resample(df_5, replace=True, n_samples=n_samples, random_state=42)\n",
    "df_6_balanced = resample(df_6, replace=True, n_samples=n_samples, random_state=42)"
   ]
  },
  {
   "cell_type": "code",
   "execution_count": 9,
   "id": "02842354",
   "metadata": {},
   "outputs": [],
   "source": [
    "skin_df_balanced = pd.concat([df_0_balanced, df_1_balanced, \n",
    "                              df_2_balanced, df_3_balanced, \n",
    "                              df_4_balanced, df_5_balanced, df_6_balanced])"
   ]
  },
  {
   "cell_type": "code",
   "execution_count": 10,
   "id": "c1a9173a",
   "metadata": {},
   "outputs": [
    {
     "name": "stdout",
     "output_type": "stream",
     "text": [
      "0    500\n",
      "1    500\n",
      "2    500\n",
      "3    500\n",
      "4    500\n",
      "5    500\n",
      "6    500\n",
      "Name: label, dtype: int64\n"
     ]
    }
   ],
   "source": [
    "print(skin_df_balanced['label'].value_counts())"
   ]
  },
  {
   "cell_type": "code",
   "execution_count": 11,
   "id": "4633ee4c",
   "metadata": {},
   "outputs": [],
   "source": [
    "SIZE=32\n",
    "image_path = {os.path.splitext(os.path.basename(x))[0]: x\n",
    "                     for x in glob(os.path.join('data/all_images/', '*.jpg'))}\n",
    "#Define the path and add as a new column\n",
    "skin_df_balanced['path'] = skin_df['image_id'].map(image_path.get)\n",
    "#Use the path to read images.\n",
    "skin_df_balanced['image'] = skin_df_balanced['path'].map(lambda x: np.asarray(Image.open(x).resize((SIZE,SIZE))))"
   ]
  },
  {
   "cell_type": "code",
   "execution_count": 12,
   "id": "5fe8fe46",
   "metadata": {},
   "outputs": [
    {
     "data": {
      "text/html": [
       "<div>\n",
       "<style scoped>\n",
       "    .dataframe tbody tr th:only-of-type {\n",
       "        vertical-align: middle;\n",
       "    }\n",
       "\n",
       "    .dataframe tbody tr th {\n",
       "        vertical-align: top;\n",
       "    }\n",
       "\n",
       "    .dataframe thead th {\n",
       "        text-align: right;\n",
       "    }\n",
       "</style>\n",
       "<table border=\"1\" class=\"dataframe\">\n",
       "  <thead>\n",
       "    <tr style=\"text-align: right;\">\n",
       "      <th></th>\n",
       "      <th>lesion_id</th>\n",
       "      <th>image_id</th>\n",
       "      <th>dx</th>\n",
       "      <th>dx_type</th>\n",
       "      <th>age</th>\n",
       "      <th>sex</th>\n",
       "      <th>localization</th>\n",
       "      <th>label</th>\n",
       "      <th>path</th>\n",
       "      <th>image</th>\n",
       "    </tr>\n",
       "  </thead>\n",
       "  <tbody>\n",
       "    <tr>\n",
       "      <th>9789</th>\n",
       "      <td>HAM_0003136</td>\n",
       "      <td>ISIC_0026645</td>\n",
       "      <td>akiec</td>\n",
       "      <td>histo</td>\n",
       "      <td>65.0</td>\n",
       "      <td>male</td>\n",
       "      <td>back</td>\n",
       "      <td>0</td>\n",
       "      <td>data/all_images\\ISIC_0026645.jpg</td>\n",
       "      <td>[[[155, 118, 107], [162, 126, 118], [174, 140,...</td>\n",
       "    </tr>\n",
       "    <tr>\n",
       "      <th>9957</th>\n",
       "      <td>HAM_0006587</td>\n",
       "      <td>ISIC_0025780</td>\n",
       "      <td>akiec</td>\n",
       "      <td>histo</td>\n",
       "      <td>70.0</td>\n",
       "      <td>male</td>\n",
       "      <td>face</td>\n",
       "      <td>0</td>\n",
       "      <td>data/all_images\\ISIC_0025780.jpg</td>\n",
       "      <td>[[[138, 76, 82], [131, 64, 68], [139, 73, 81],...</td>\n",
       "    </tr>\n",
       "    <tr>\n",
       "      <th>9793</th>\n",
       "      <td>HAM_0005505</td>\n",
       "      <td>ISIC_0024450</td>\n",
       "      <td>akiec</td>\n",
       "      <td>histo</td>\n",
       "      <td>50.0</td>\n",
       "      <td>male</td>\n",
       "      <td>upper extremity</td>\n",
       "      <td>0</td>\n",
       "      <td>data/all_images\\ISIC_0024450.jpg</td>\n",
       "      <td>[[[123, 86, 87], [174, 137, 137], [197, 161, 1...</td>\n",
       "    </tr>\n",
       "    <tr>\n",
       "      <th>9758</th>\n",
       "      <td>HAM_0003455</td>\n",
       "      <td>ISIC_0027896</td>\n",
       "      <td>akiec</td>\n",
       "      <td>histo</td>\n",
       "      <td>75.0</td>\n",
       "      <td>male</td>\n",
       "      <td>hand</td>\n",
       "      <td>0</td>\n",
       "      <td>data/all_images\\ISIC_0027896.jpg</td>\n",
       "      <td>[[[205, 149, 175], [207, 149, 169], [214, 158,...</td>\n",
       "    </tr>\n",
       "    <tr>\n",
       "      <th>9875</th>\n",
       "      <td>HAM_0005459</td>\n",
       "      <td>ISIC_0029268</td>\n",
       "      <td>akiec</td>\n",
       "      <td>histo</td>\n",
       "      <td>85.0</td>\n",
       "      <td>male</td>\n",
       "      <td>upper extremity</td>\n",
       "      <td>0</td>\n",
       "      <td>data/all_images\\ISIC_0029268.jpg</td>\n",
       "      <td>[[[203, 174, 199], [205, 174, 197], [206, 175,...</td>\n",
       "    </tr>\n",
       "  </tbody>\n",
       "</table>\n",
       "</div>"
      ],
      "text/plain": [
       "        lesion_id      image_id     dx dx_type   age   sex     localization  \\\n",
       "9789  HAM_0003136  ISIC_0026645  akiec   histo  65.0  male             back   \n",
       "9957  HAM_0006587  ISIC_0025780  akiec   histo  70.0  male             face   \n",
       "9793  HAM_0005505  ISIC_0024450  akiec   histo  50.0  male  upper extremity   \n",
       "9758  HAM_0003455  ISIC_0027896  akiec   histo  75.0  male             hand   \n",
       "9875  HAM_0005459  ISIC_0029268  akiec   histo  85.0  male  upper extremity   \n",
       "\n",
       "      label                              path  \\\n",
       "9789      0  data/all_images\\ISIC_0026645.jpg   \n",
       "9957      0  data/all_images\\ISIC_0025780.jpg   \n",
       "9793      0  data/all_images\\ISIC_0024450.jpg   \n",
       "9758      0  data/all_images\\ISIC_0027896.jpg   \n",
       "9875      0  data/all_images\\ISIC_0029268.jpg   \n",
       "\n",
       "                                                  image  \n",
       "9789  [[[155, 118, 107], [162, 126, 118], [174, 140,...  \n",
       "9957  [[[138, 76, 82], [131, 64, 68], [139, 73, 81],...  \n",
       "9793  [[[123, 86, 87], [174, 137, 137], [197, 161, 1...  \n",
       "9758  [[[205, 149, 175], [207, 149, 169], [214, 158,...  \n",
       "9875  [[[203, 174, 199], [205, 174, 197], [206, 175,...  "
      ]
     },
     "execution_count": 12,
     "metadata": {},
     "output_type": "execute_result"
    }
   ],
   "source": [
    "skin_df_balanced.head()"
   ]
  },
  {
   "cell_type": "code",
   "execution_count": 13,
   "id": "a9c6151a",
   "metadata": {},
   "outputs": [],
   "source": [
    "#Convert dataframe column of images into numpy array\n",
    "X = np.asarray(skin_df_balanced['image'].tolist())\n",
    "X = X/255. # Scale values to 0-1. You can also used standardscaler or other scaling methods.\n",
    "Y=skin_df_balanced['label'] #Assign label values to Y\n",
    "Y_cat = to_categorical(Y, num_classes=7) #Convert to categorical as this is a multiclass classification problem"
   ]
  },
  {
   "cell_type": "code",
   "execution_count": 20,
   "id": "0108741d",
   "metadata": {},
   "outputs": [],
   "source": [
    "#Split to training and testing. Getting a very small dataset for training autokeras\n",
    "x_train_auto, x_test_auto, y_train_auto, y_test_auto = train_test_split(X, Y_cat, test_size=0.9, random_state=42)\n",
    "\n",
    "#Further split data into smaller size to get a small test dataset. \n",
    "x_unused, x_valid, y_unused, y_valid = train_test_split(x_test_auto, y_test_auto, test_size=0.1, random_state=42)"
   ]
  },
  {
   "cell_type": "code",
   "execution_count": 29,
   "id": "2eb287bd",
   "metadata": {},
   "outputs": [
    {
     "name": "stdout",
     "output_type": "stream",
     "text": [
      "shape of training data {},_{} (350, 32, 32, 3) (350, 7)\n"
     ]
    }
   ],
   "source": [
    "print(\"shape of training data {},_{}\",x_train_auto.shape,y_train_auto.shape)"
   ]
  },
  {
   "cell_type": "code",
   "execution_count": 30,
   "id": "9f4b2737",
   "metadata": {},
   "outputs": [
    {
     "name": "stdout",
     "output_type": "stream",
     "text": [
      "shape of validationdata {},_{} (315, 32, 32, 3) (315, 7)\n"
     ]
    }
   ],
   "source": [
    "print(\"shape of validationdata {},_{}\",x_valid.shape,y_valid.shape)"
   ]
  },
  {
   "cell_type": "code",
   "execution_count": 21,
   "id": "c89ce257",
   "metadata": {},
   "outputs": [
    {
     "name": "stdout",
     "output_type": "stream",
     "text": [
      "Trial 15 Complete [00h 00m 09s]\n",
      "val_loss: 1.4182049036026\n",
      "\n",
      "Best val_loss So Far: 1.31146240234375\n",
      "Total elapsed time: 02h 56m 12s\n",
      "INFO:tensorflow:Oracle triggered exit\n",
      "Epoch 1/10\n",
      "11/11 [==============================] - 1s 84ms/step - loss: 2.0145 - accuracy: 0.1886\n",
      "Epoch 2/10\n",
      "11/11 [==============================] - 1s 84ms/step - loss: 1.8135 - accuracy: 0.2886\n",
      "Epoch 3/10\n",
      "11/11 [==============================] - 1s 86ms/step - loss: 1.6964 - accuracy: 0.3114\n",
      "Epoch 4/10\n",
      "11/11 [==============================] - 1s 85ms/step - loss: 1.6112 - accuracy: 0.3543\n",
      "Epoch 5/10\n",
      "11/11 [==============================] - 1s 85ms/step - loss: 1.4764 - accuracy: 0.4343\n",
      "Epoch 6/10\n",
      "11/11 [==============================] - 1s 85ms/step - loss: 1.4555 - accuracy: 0.4457\n",
      "Epoch 7/10\n",
      "11/11 [==============================] - 1s 85ms/step - loss: 1.3308 - accuracy: 0.5114\n",
      "Epoch 8/10\n",
      "11/11 [==============================] - 1s 85ms/step - loss: 1.2754 - accuracy: 0.5114\n",
      "Epoch 9/10\n",
      "11/11 [==============================] - 1s 86ms/step - loss: 1.2282 - accuracy: 0.5229\n",
      "Epoch 10/10\n",
      "11/11 [==============================] - 1s 86ms/step - loss: 1.1830 - accuracy: 0.5600\n",
      "INFO:tensorflow:Assets written to: ./image_classifier/best_model/assets\n"
     ]
    },
    {
     "name": "stderr",
     "output_type": "stream",
     "text": [
      "2022-12-13 13:18:27.417880: W tensorflow/python/util/util.cc:368] Sets are not currently considered sequences, but this may change in the future, so consider avoiding using them.\n"
     ]
    },
    {
     "data": {
      "text/plain": [
       "<keras.callbacks.History at 0x17e5c0610>"
      ]
     },
     "execution_count": 21,
     "metadata": {},
     "output_type": "execute_result"
    }
   ],
   "source": [
    "#Define classifier for autokeras. Here we check 15 different models, each model 25 epochs\n",
    "clf = ak.ImageClassifier(max_trials=15) #MaxTrials - max. number of keras models to try\n",
    "clf.fit(x_train_auto, y_train_auto, epochs=10) # while training default validation split is 0.2"
   ]
  },
  {
   "cell_type": "code",
   "execution_count": 22,
   "id": "82016dc1",
   "metadata": {},
   "outputs": [
    {
     "name": "stdout",
     "output_type": "stream",
     "text": [
      "10/10 [==============================] - 0s 24ms/step - loss: 1.4783 - accuracy: 0.4635\n",
      "accuracy= 46.34920656681061 %\n"
     ]
    }
   ],
   "source": [
    "_,acc = clf.evaluate(x_valid,y_valid)\n",
    "print(\"accuracy=\",(acc*100),\"%\")"
   ]
  },
  {
   "cell_type": "code",
   "execution_count": 23,
   "id": "0005abb4",
   "metadata": {},
   "outputs": [],
   "source": [
    "model = clf.export_model()"
   ]
  },
  {
   "cell_type": "code",
   "execution_count": 24,
   "id": "2dac9013",
   "metadata": {},
   "outputs": [
    {
     "name": "stdout",
     "output_type": "stream",
     "text": [
      "Model: \"model\"\n",
      "_________________________________________________________________\n",
      " Layer (type)                Output Shape              Param #   \n",
      "=================================================================\n",
      " input_1 (InputLayer)        [(None, 32, 32, 3)]       0         \n",
      "                                                                 \n",
      " cast_to_float32 (CastToFloa  (None, 32, 32, 3)        0         \n",
      " t32)                                                            \n",
      "                                                                 \n",
      " normalization (Normalizatio  (None, 32, 32, 3)        7         \n",
      " n)                                                              \n",
      "                                                                 \n",
      " conv2d (Conv2D)             (None, 28, 28, 128)       9728      \n",
      "                                                                 \n",
      " conv2d_1 (Conv2D)           (None, 24, 24, 64)        204864    \n",
      "                                                                 \n",
      " max_pooling2d (MaxPooling2D  (None, 6, 6, 64)         0         \n",
      " )                                                               \n",
      "                                                                 \n",
      " dropout (Dropout)           (None, 6, 6, 64)          0         \n",
      "                                                                 \n",
      " flatten (Flatten)           (None, 2304)              0         \n",
      "                                                                 \n",
      " dropout_1 (Dropout)         (None, 2304)              0         \n",
      "                                                                 \n",
      " dense (Dense)               (None, 7)                 16135     \n",
      "                                                                 \n",
      " classification_head_1 (Soft  (None, 7)                0         \n",
      " max)                                                            \n",
      "                                                                 \n",
      "=================================================================\n",
      "Total params: 230,734\n",
      "Trainable params: 230,727\n",
      "Non-trainable params: 7\n",
      "_________________________________________________________________\n",
      "None\n"
     ]
    }
   ],
   "source": [
    "print(model.summary())"
   ]
  },
  {
   "cell_type": "code",
   "execution_count": 26,
   "id": "626c9637",
   "metadata": {},
   "outputs": [],
   "source": [
    "model.save(\"models/autokeras_bestmodel.h5\")"
   ]
  },
  {
   "cell_type": "markdown",
   "id": "47003099",
   "metadata": {},
   "source": [
    "### Training best model on more training data "
   ]
  },
  {
   "cell_type": "code",
   "execution_count": 5,
   "id": "e5e29546",
   "metadata": {},
   "outputs": [
    {
     "ename": "NameError",
     "evalue": "name 'train_test_split' is not defined",
     "output_type": "error",
     "traceback": [
      "\u001b[1;31m---------------------------------------------------------------------------\u001b[0m",
      "\u001b[1;31mNameError\u001b[0m                                 Traceback (most recent call last)",
      "Input \u001b[1;32mIn [5]\u001b[0m, in \u001b[0;36m<cell line: 2>\u001b[1;34m()\u001b[0m\n\u001b[0;32m      1\u001b[0m \u001b[38;5;66;03m#Split to training and testing\u001b[39;00m\n\u001b[1;32m----> 2\u001b[0m x_train, x_test, y_train, y_test \u001b[38;5;241m=\u001b[39m \u001b[43mtrain_test_split\u001b[49m(X, Y_cat, test_size\u001b[38;5;241m=\u001b[39m\u001b[38;5;241m0.25\u001b[39m, random_state\u001b[38;5;241m=\u001b[39m\u001b[38;5;241m42\u001b[39m)\n",
      "\u001b[1;31mNameError\u001b[0m: name 'train_test_split' is not defined"
     ]
    }
   ],
   "source": [
    "#Split to training and testing\n",
    "x_train, x_test, y_train, y_test = train_test_split(X, Y_cat, test_size=0.25, random_state=42)"
   ]
  },
  {
   "cell_type": "code",
   "execution_count": 15,
   "id": "b516e1bd",
   "metadata": {},
   "outputs": [
    {
     "data": {
      "text/plain": [
       "(2625, 32, 32, 3)"
      ]
     },
     "execution_count": 15,
     "metadata": {},
     "output_type": "execute_result"
    }
   ],
   "source": [
    "x_train.shape"
   ]
  },
  {
   "cell_type": "code",
   "execution_count": 16,
   "id": "f47fe558",
   "metadata": {},
   "outputs": [
    {
     "data": {
      "text/plain": [
       "(875, 32, 32, 3)"
      ]
     },
     "execution_count": 16,
     "metadata": {},
     "output_type": "execute_result"
    }
   ],
   "source": [
    "x_test.shape"
   ]
  },
  {
   "cell_type": "code",
   "execution_count": 34,
   "id": "a3bac7bf",
   "metadata": {},
   "outputs": [
    {
     "data": {
      "text/plain": [
       "(2625, 7)"
      ]
     },
     "execution_count": 34,
     "metadata": {},
     "output_type": "execute_result"
    }
   ],
   "source": [
    "y_train.shape"
   ]
  },
  {
   "cell_type": "code",
   "execution_count": 35,
   "id": "fb9d8cea",
   "metadata": {},
   "outputs": [
    {
     "data": {
      "text/plain": [
       "(875, 7)"
      ]
     },
     "execution_count": 35,
     "metadata": {},
     "output_type": "execute_result"
    }
   ],
   "source": [
    "y_test.shape"
   ]
  },
  {
   "cell_type": "code",
   "execution_count": 36,
   "id": "3591dd4b",
   "metadata": {},
   "outputs": [],
   "source": [
    "model.compile(loss='categorical_crossentropy', optimizer='Adam', metrics=['acc'])"
   ]
  },
  {
   "cell_type": "code",
   "execution_count": 37,
   "id": "3628e37c",
   "metadata": {
    "scrolled": true
   },
   "outputs": [
    {
     "name": "stdout",
     "output_type": "stream",
     "text": [
      "Epoch 1/50\n",
      "165/165 - 8s - loss: 1.4991 - acc: 0.4328 - val_loss: 1.3576 - val_acc: 0.4903 - 8s/epoch - 46ms/step\n",
      "Epoch 2/50\n",
      "165/165 - 8s - loss: 1.3212 - acc: 0.5029 - val_loss: 1.1841 - val_acc: 0.5531 - 8s/epoch - 46ms/step\n",
      "Epoch 3/50\n",
      "165/165 - 8s - loss: 1.2242 - acc: 0.5425 - val_loss: 1.2352 - val_acc: 0.5611 - 8s/epoch - 46ms/step\n",
      "Epoch 4/50\n",
      "165/165 - 8s - loss: 1.1592 - acc: 0.5730 - val_loss: 1.0824 - val_acc: 0.5943 - 8s/epoch - 46ms/step\n",
      "Epoch 5/50\n",
      "165/165 - 8s - loss: 1.0737 - acc: 0.6053 - val_loss: 1.0022 - val_acc: 0.6480 - 8s/epoch - 45ms/step\n",
      "Epoch 6/50\n",
      "165/165 - 8s - loss: 1.0383 - acc: 0.6175 - val_loss: 1.0007 - val_acc: 0.6663 - 8s/epoch - 46ms/step\n",
      "Epoch 7/50\n",
      "165/165 - 8s - loss: 0.9554 - acc: 0.6457 - val_loss: 1.0552 - val_acc: 0.6286 - 8s/epoch - 46ms/step\n",
      "Epoch 8/50\n",
      "165/165 - 8s - loss: 0.9323 - acc: 0.6629 - val_loss: 0.9336 - val_acc: 0.6914 - 8s/epoch - 46ms/step\n",
      "Epoch 9/50\n",
      "165/165 - 8s - loss: 0.8748 - acc: 0.6659 - val_loss: 0.9267 - val_acc: 0.6686 - 8s/epoch - 46ms/step\n",
      "Epoch 10/50\n",
      "165/165 - 8s - loss: 0.8802 - acc: 0.6731 - val_loss: 0.9222 - val_acc: 0.6846 - 8s/epoch - 46ms/step\n",
      "Epoch 11/50\n",
      "165/165 - 8s - loss: 0.9048 - acc: 0.6754 - val_loss: 1.0258 - val_acc: 0.6526 - 8s/epoch - 46ms/step\n",
      "Epoch 12/50\n",
      "165/165 - 8s - loss: 0.8289 - acc: 0.7013 - val_loss: 0.8562 - val_acc: 0.7029 - 8s/epoch - 46ms/step\n",
      "Epoch 13/50\n",
      "165/165 - 8s - loss: 0.7749 - acc: 0.7189 - val_loss: 0.9202 - val_acc: 0.6937 - 8s/epoch - 47ms/step\n",
      "Epoch 14/50\n",
      "165/165 - 8s - loss: 0.7579 - acc: 0.7120 - val_loss: 0.8868 - val_acc: 0.7086 - 8s/epoch - 47ms/step\n",
      "Epoch 15/50\n",
      "165/165 - 8s - loss: 0.7050 - acc: 0.7448 - val_loss: 0.9449 - val_acc: 0.6709 - 8s/epoch - 48ms/step\n",
      "Epoch 16/50\n",
      "165/165 - 8s - loss: 0.7099 - acc: 0.7291 - val_loss: 0.9369 - val_acc: 0.6811 - 8s/epoch - 48ms/step\n",
      "Epoch 17/50\n",
      "165/165 - 8s - loss: 0.7442 - acc: 0.7242 - val_loss: 0.9016 - val_acc: 0.7303 - 8s/epoch - 48ms/step\n",
      "Epoch 18/50\n",
      "165/165 - 8s - loss: 0.6583 - acc: 0.7684 - val_loss: 0.9216 - val_acc: 0.7326 - 8s/epoch - 48ms/step\n",
      "Epoch 19/50\n",
      "165/165 - 8s - loss: 0.7008 - acc: 0.7509 - val_loss: 0.7942 - val_acc: 0.7429 - 8s/epoch - 49ms/step\n",
      "Epoch 20/50\n",
      "165/165 - 8s - loss: 0.6434 - acc: 0.7710 - val_loss: 0.8170 - val_acc: 0.7486 - 8s/epoch - 48ms/step\n",
      "Epoch 21/50\n",
      "165/165 - 8s - loss: 0.6383 - acc: 0.7661 - val_loss: 0.9006 - val_acc: 0.7211 - 8s/epoch - 48ms/step\n",
      "Epoch 22/50\n",
      "165/165 - 8s - loss: 0.6232 - acc: 0.7764 - val_loss: 0.8503 - val_acc: 0.7463 - 8s/epoch - 48ms/step\n",
      "Epoch 23/50\n",
      "165/165 - 8s - loss: 0.7129 - acc: 0.7379 - val_loss: 0.8644 - val_acc: 0.7143 - 8s/epoch - 48ms/step\n",
      "Epoch 24/50\n",
      "165/165 - 8s - loss: 0.5991 - acc: 0.7825 - val_loss: 0.7984 - val_acc: 0.7589 - 8s/epoch - 48ms/step\n",
      "Epoch 25/50\n",
      "165/165 - 8s - loss: 0.5681 - acc: 0.7851 - val_loss: 0.7900 - val_acc: 0.7657 - 8s/epoch - 48ms/step\n",
      "Epoch 26/50\n",
      "165/165 - 8s - loss: 0.5637 - acc: 0.7878 - val_loss: 0.8336 - val_acc: 0.7634 - 8s/epoch - 48ms/step\n",
      "Epoch 27/50\n",
      "165/165 - 8s - loss: 0.5427 - acc: 0.8065 - val_loss: 0.7976 - val_acc: 0.7623 - 8s/epoch - 48ms/step\n",
      "Epoch 28/50\n",
      "165/165 - 8s - loss: 0.5791 - acc: 0.7867 - val_loss: 0.8332 - val_acc: 0.7600 - 8s/epoch - 49ms/step\n",
      "Epoch 29/50\n",
      "165/165 - 8s - loss: 0.5383 - acc: 0.7958 - val_loss: 0.8345 - val_acc: 0.7611 - 8s/epoch - 49ms/step\n",
      "Epoch 30/50\n",
      "165/165 - 8s - loss: 0.5239 - acc: 0.8103 - val_loss: 0.8423 - val_acc: 0.7554 - 8s/epoch - 49ms/step\n",
      "Epoch 31/50\n",
      "165/165 - 8s - loss: 0.5291 - acc: 0.8095 - val_loss: 0.8519 - val_acc: 0.7577 - 8s/epoch - 49ms/step\n",
      "Epoch 32/50\n",
      "165/165 - 8s - loss: 0.5364 - acc: 0.8030 - val_loss: 0.9241 - val_acc: 0.7543 - 8s/epoch - 49ms/step\n",
      "Epoch 33/50\n",
      "165/165 - 8s - loss: 0.5972 - acc: 0.7832 - val_loss: 0.9569 - val_acc: 0.7589 - 8s/epoch - 49ms/step\n",
      "Epoch 34/50\n",
      "165/165 - 8s - loss: 0.5300 - acc: 0.8030 - val_loss: 0.8932 - val_acc: 0.7680 - 8s/epoch - 49ms/step\n",
      "Epoch 35/50\n",
      "165/165 - 8s - loss: 0.4692 - acc: 0.8267 - val_loss: 0.9621 - val_acc: 0.7703 - 8s/epoch - 49ms/step\n",
      "Epoch 36/50\n",
      "165/165 - 8s - loss: 0.4883 - acc: 0.8190 - val_loss: 0.8443 - val_acc: 0.7714 - 8s/epoch - 49ms/step\n",
      "Epoch 37/50\n",
      "165/165 - 8s - loss: 0.5126 - acc: 0.8122 - val_loss: 0.8445 - val_acc: 0.7794 - 8s/epoch - 49ms/step\n",
      "Epoch 38/50\n",
      "165/165 - 8s - loss: 0.4655 - acc: 0.8240 - val_loss: 0.9359 - val_acc: 0.7691 - 8s/epoch - 49ms/step\n",
      "Epoch 39/50\n",
      "165/165 - 8s - loss: 0.4533 - acc: 0.8305 - val_loss: 0.8974 - val_acc: 0.7691 - 8s/epoch - 49ms/step\n",
      "Epoch 40/50\n",
      "165/165 - 8s - loss: 0.4458 - acc: 0.8370 - val_loss: 0.8454 - val_acc: 0.7794 - 8s/epoch - 49ms/step\n",
      "Epoch 41/50\n",
      "165/165 - 8s - loss: 0.4241 - acc: 0.8461 - val_loss: 0.9484 - val_acc: 0.7771 - 8s/epoch - 49ms/step\n",
      "Epoch 42/50\n",
      "165/165 - 8s - loss: 0.4008 - acc: 0.8495 - val_loss: 0.9351 - val_acc: 0.7806 - 8s/epoch - 49ms/step\n",
      "Epoch 43/50\n",
      "165/165 - 8s - loss: 0.4261 - acc: 0.8419 - val_loss: 0.9161 - val_acc: 0.7714 - 8s/epoch - 49ms/step\n",
      "Epoch 44/50\n",
      "165/165 - 8s - loss: 0.4175 - acc: 0.8457 - val_loss: 1.0022 - val_acc: 0.7749 - 8s/epoch - 49ms/step\n",
      "Epoch 45/50\n",
      "165/165 - 8s - loss: 0.4319 - acc: 0.8377 - val_loss: 0.8669 - val_acc: 0.7726 - 8s/epoch - 49ms/step\n",
      "Epoch 46/50\n",
      "165/165 - 8s - loss: 0.4169 - acc: 0.8446 - val_loss: 0.9223 - val_acc: 0.7760 - 8s/epoch - 49ms/step\n",
      "Epoch 47/50\n",
      "165/165 - 8s - loss: 0.3864 - acc: 0.8549 - val_loss: 0.9519 - val_acc: 0.7840 - 8s/epoch - 49ms/step\n",
      "Epoch 48/50\n",
      "165/165 - 8s - loss: 0.4362 - acc: 0.8465 - val_loss: 1.0280 - val_acc: 0.7691 - 8s/epoch - 50ms/step\n",
      "Epoch 49/50\n",
      "165/165 - 8s - loss: 0.4068 - acc: 0.8568 - val_loss: 0.9315 - val_acc: 0.7771 - 8s/epoch - 49ms/step\n",
      "Epoch 50/50\n",
      "165/165 - 8s - loss: 0.4416 - acc: 0.8404 - val_loss: 0.9311 - val_acc: 0.7966 - 8s/epoch - 49ms/step\n"
     ]
    }
   ],
   "source": [
    "batch_size = 16 \n",
    "epochs = 50\n",
    "\n",
    "history = model.fit(\n",
    "    x_train, y_train,\n",
    "    epochs=epochs,\n",
    "    batch_size = batch_size,\n",
    "    validation_data=(x_test, y_test),\n",
    "    verbose=2)"
   ]
  },
  {
   "cell_type": "code",
   "execution_count": 43,
   "id": "bef38275",
   "metadata": {},
   "outputs": [
    {
     "data": {
      "image/png": "[encoded data removed]",
      "text/plain": [
       "<Figure size 1000x600 with 2 Axes>"
      ]
     },
     "metadata": {},
     "output_type": "display_data"
    }
   ],
   "source": [
    "acc = history.history['acc']\n",
    "val_acc = history.history['val_acc']\n",
    "\n",
    "loss = history.history['loss']\n",
    "val_loss = history.history['val_loss']\n",
    "\n",
    "epochs_range = range(50)\n",
    "\n",
    "plt.figure(figsize=(10, 6))\n",
    "plt.subplot(1, 2, 1)\n",
    "plt.plot(epochs_range, acc, label='Training Accuracy')\n",
    "plt.plot(epochs_range, val_acc, label='Validation Accuracy')\n",
    "plt.legend(loc='lower right')\n",
    "plt.title('Training and Validation Accuracy')\n",
    "\n",
    "plt.subplot(1, 2, 2)\n",
    "plt.plot(epochs_range, loss, label='Training Loss')\n",
    "plt.plot(epochs_range, val_loss, label='Validation Loss')\n",
    "plt.legend(loc='upper right')\n",
    "plt.title('Training and Validation Loss')\n",
    "plt.show()"
   ]
  },
  {
   "cell_type": "code",
   "execution_count": 44,
   "id": "ec04bd4c",
   "metadata": {},
   "outputs": [
    {
     "name": "stdout",
     "output_type": "stream",
     "text": [
      "28/28 [==============================] - 1s 23ms/step - loss: 0.9311 - acc: 0.7966\n",
      "Test accuracy: 0.7965714335441589\n"
     ]
    }
   ],
   "source": [
    "score = model.evaluate(x_test, y_test)\n",
    "print('Test accuracy:', score[1])"
   ]
  },
  {
   "cell_type": "code",
   "execution_count": 48,
   "id": "1dbdcc01",
   "metadata": {
    "scrolled": true
   },
   "outputs": [
    {
     "name": "stdout",
     "output_type": "stream",
     "text": [
      "Epoch 50/74\n",
      "165/165 - 8s - loss: 0.3750 - acc: 0.8697 - val_loss: 1.0053 - val_acc: 0.7829 - 8s/epoch - 46ms/step\n",
      "Epoch 51/74\n",
      "165/165 - 8s - loss: 0.5006 - acc: 0.8175 - val_loss: 1.1377 - val_acc: 0.7760 - 8s/epoch - 46ms/step\n",
      "Epoch 52/74\n",
      "165/165 - 8s - loss: 0.3903 - acc: 0.8575 - val_loss: 1.0273 - val_acc: 0.7886 - 8s/epoch - 46ms/step\n",
      "Epoch 53/74\n",
      "165/165 - 8s - loss: 0.3510 - acc: 0.8720 - val_loss: 0.9090 - val_acc: 0.7817 - 8s/epoch - 46ms/step\n",
      "Epoch 54/74\n",
      "165/165 - 8s - loss: 0.3323 - acc: 0.8800 - val_loss: 1.0077 - val_acc: 0.7931 - 8s/epoch - 47ms/step\n",
      "Epoch 55/74\n",
      "165/165 - 8s - loss: 0.3185 - acc: 0.8888 - val_loss: 1.0213 - val_acc: 0.7840 - 8s/epoch - 47ms/step\n",
      "Epoch 56/74\n",
      "165/165 - 8s - loss: 0.3176 - acc: 0.8861 - val_loss: 1.0027 - val_acc: 0.7966 - 8s/epoch - 47ms/step\n",
      "Epoch 57/74\n",
      "165/165 - 8s - loss: 0.3706 - acc: 0.8712 - val_loss: 1.0560 - val_acc: 0.7909 - 8s/epoch - 47ms/step\n",
      "Epoch 58/74\n",
      "165/165 - 8s - loss: 0.3050 - acc: 0.8971 - val_loss: 1.1870 - val_acc: 0.7634 - 8s/epoch - 48ms/step\n",
      "Epoch 59/74\n",
      "165/165 - 8s - loss: 0.3472 - acc: 0.8758 - val_loss: 1.0224 - val_acc: 0.7874 - 8s/epoch - 48ms/step\n",
      "Epoch 60/74\n",
      "165/165 - 8s - loss: 0.3105 - acc: 0.8823 - val_loss: 1.0528 - val_acc: 0.7989 - 8s/epoch - 48ms/step\n",
      "Epoch 61/74\n",
      "165/165 - 8s - loss: 0.3011 - acc: 0.8903 - val_loss: 1.0142 - val_acc: 0.8046 - 8s/epoch - 48ms/step\n",
      "Epoch 62/74\n",
      "165/165 - 8s - loss: 0.3193 - acc: 0.8865 - val_loss: 1.1212 - val_acc: 0.8000 - 8s/epoch - 48ms/step\n",
      "Epoch 63/74\n",
      "165/165 - 8s - loss: 0.3189 - acc: 0.8846 - val_loss: 1.0680 - val_acc: 0.7909 - 8s/epoch - 48ms/step\n",
      "Epoch 64/74\n",
      "165/165 - 8s - loss: 0.2903 - acc: 0.8899 - val_loss: 1.0851 - val_acc: 0.8011 - 8s/epoch - 49ms/step\n",
      "Epoch 65/74\n",
      "165/165 - 8s - loss: 0.2799 - acc: 0.8941 - val_loss: 1.1807 - val_acc: 0.7977 - 8s/epoch - 48ms/step\n",
      "Epoch 66/74\n",
      "165/165 - 8s - loss: 0.3414 - acc: 0.8865 - val_loss: 1.0680 - val_acc: 0.7760 - 8s/epoch - 49ms/step\n",
      "Epoch 67/74\n",
      "165/165 - 8s - loss: 0.4252 - acc: 0.8621 - val_loss: 1.0618 - val_acc: 0.7954 - 8s/epoch - 49ms/step\n",
      "Epoch 68/74\n",
      "165/165 - 8s - loss: 0.3311 - acc: 0.8827 - val_loss: 1.1318 - val_acc: 0.7931 - 8s/epoch - 49ms/step\n",
      "Epoch 69/74\n",
      "165/165 - 8s - loss: 0.3473 - acc: 0.8716 - val_loss: 1.1136 - val_acc: 0.7829 - 8s/epoch - 49ms/step\n",
      "Epoch 70/74\n",
      "165/165 - 8s - loss: 0.3083 - acc: 0.8853 - val_loss: 1.0911 - val_acc: 0.7966 - 8s/epoch - 49ms/step\n",
      "Epoch 71/74\n",
      "165/165 - 8s - loss: 0.3165 - acc: 0.8861 - val_loss: 1.2148 - val_acc: 0.7851 - 8s/epoch - 49ms/step\n",
      "Epoch 71: early stopping\n"
     ]
    }
   ],
   "source": [
    "from tensorflow.keras.callbacks import EarlyStopping\n",
    "es = EarlyStopping(monitor='val_acc', mode='max', verbose=1,patience=10,min_delta=0.0001)\n",
    "extend_epochs =25\n",
    "total_epochs = history.epoch[-1] +extend_epochs\n",
    "\n",
    "history=model.fit(x_train, y_train,\n",
    "                  initial_epoch=history.epoch[-1],\n",
    "                epochs=total_epochs,\n",
    "                batch_size = batch_size,\n",
    "                validation_data=(x_test, y_test),\n",
    "                verbose=2,callbacks=[es])"
   ]
  },
  {
   "cell_type": "code",
   "execution_count": 49,
   "id": "8c344502",
   "metadata": {},
   "outputs": [
    {
     "name": "stdout",
     "output_type": "stream",
     "text": [
      "28/28 [==============================] - 1s 23ms/step - loss: 1.2148 - acc: 0.7851\n",
      "Test accuracy: 0.7851428389549255\n"
     ]
    }
   ],
   "source": [
    "score = model.evaluate(x_test, y_test)\n",
    "print('Test accuracy:', score[1])"
   ]
  },
  {
   "cell_type": "code",
   "execution_count": 54,
   "id": "050e5fb4",
   "metadata": {},
   "outputs": [
    {
     "data": {
      "image/png": "[encoded data removed]",
      "text/plain": [
       "<Figure size 1000x600 with 2 Axes>"
      ]
     },
     "metadata": {},
     "output_type": "display_data"
    }
   ],
   "source": [
    "acc = history.history['acc']\n",
    "val_acc = history.history['val_acc']\n",
    "\n",
    "loss = history.history['loss']\n",
    "val_loss = history.history['val_loss']\n",
    "\n",
    "epochs_range = range(22)\n",
    "\n",
    "plt.figure(figsize=(10, 6))\n",
    "plt.subplot(1, 2, 1)\n",
    "plt.plot(epochs_range, acc, label='Training Accuracy')\n",
    "plt.plot(epochs_range, val_acc, label='Validation Accuracy')\n",
    "plt.legend(loc='lower right')\n",
    "plt.title('Training and Validation Accuracy')\n",
    "\n",
    "plt.subplot(1, 2, 2)\n",
    "plt.plot(epochs_range, loss, label='Training Loss')\n",
    "plt.plot(epochs_range, val_loss, label='Validation Loss')\n",
    "plt.legend(loc='upper right')\n",
    "plt.title('Training and Validation Loss')\n",
    "plt.show()"
   ]
  },
  {
   "cell_type": "code",
   "execution_count": 55,
   "id": "4ad195da",
   "metadata": {},
   "outputs": [],
   "source": [
    "model.save(\"models/autokeras_model_79acc.h5\")"
   ]
  },
  {
   "cell_type": "code",
   "execution_count": null,
   "id": "1fe3a4b9",
   "metadata": {},
   "outputs": [],
   "source": []
  },
  {
   "cell_type": "code",
   "execution_count": null,
   "id": "501a4b71",
   "metadata": {},
   "outputs": [],
   "source": []
  },
  {
   "cell_type": "code",
   "execution_count": null,
   "id": "ead8ba2e",
   "metadata": {},
   "outputs": [],
   "source": []
  },
  {
   "cell_type": "code",
   "execution_count": null,
   "id": "51fa6ae6",
   "metadata": {},
   "outputs": [],
   "source": []
  }
 ],
 "metadata": {
  "kernelspec": {
   "display_name": "Python 3 (ipykernel)",
   "language": "python",
   "name": "python3"
  },
  "language_info": {
   "codemirror_mode": {
    "name": "ipython",
    "version": 3
   },
   "file_extension": ".py",
   "mimetype": "text/x-python",
   "name": "python",
   "nbconvert_exporter": "python",
   "pygments_lexer": "ipython3",
   "version": "3.9.12"
  }
 },
 "nbformat": 4,
 "nbformat_minor": 5
}
